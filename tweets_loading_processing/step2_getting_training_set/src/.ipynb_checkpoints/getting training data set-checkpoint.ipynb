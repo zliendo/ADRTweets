{
 "cells": [
  {
   "cell_type": "markdown",
   "metadata": {},
   "source": [
    "## Original script was provided by DIEGO lab at Arizona State University\n",
    "\n",
    "http://diego.asu.edu/\n",
    "http://diego.asu.edu/Publications/ADRMine.html\n",
    "(python download_binary_twitter_data.py [input_filename] > [output_filename])\n",
    "\n",
    "The original script had the following modifications:\n",
    "\n",
    "* store training data set in a file for later use\n",
    "\n",
    "* counting number of tweets retrieved successfully"
   ]
  },
  {
   "cell_type": "code",
   "execution_count": 2,
   "metadata": {
    "collapsed": false
   },
   "outputs": [
    {
     "ename": "NameError",
     "evalue": "name 'csv' is not defined",
     "output_type": "error",
     "traceback": [
      "\u001b[1;31m---------------------------------------------------------------------------\u001b[0m",
      "\u001b[1;31mNameError\u001b[0m                                 Traceback (most recent call last)",
      "\u001b[1;32m<ipython-input-2-73ead6c74792>\u001b[0m in \u001b[0;36m<module>\u001b[1;34m()\u001b[0m\n\u001b[0;32m      6\u001b[0m \u001b[0moutputFileName\u001b[0m \u001b[1;33m=\u001b[0m \u001b[1;34m\"../output_file/Training_set.csv\"\u001b[0m\u001b[1;33m\u001b[0m\u001b[0m\n\u001b[0;32m      7\u001b[0m \u001b[0moutput_file\u001b[0m \u001b[1;33m=\u001b[0m\u001b[0mopen\u001b[0m\u001b[1;33m(\u001b[0m\u001b[0moutputFileName\u001b[0m\u001b[1;33m,\u001b[0m \u001b[1;34m'wb'\u001b[0m\u001b[1;33m)\u001b[0m\u001b[1;33m\u001b[0m\u001b[0m\n\u001b[1;32m----> 8\u001b[1;33m \u001b[0mcsv_writer\u001b[0m \u001b[1;33m=\u001b[0m \u001b[0mcsv\u001b[0m\u001b[1;33m.\u001b[0m\u001b[0mwriter\u001b[0m\u001b[1;33m(\u001b[0m\u001b[0moutput_file\u001b[0m\u001b[1;33m)\u001b[0m\u001b[1;33m\u001b[0m\u001b[0m\n\u001b[0m",
      "\u001b[1;31mNameError\u001b[0m: name 'csv' is not defined"
     ]
    }
   ],
   "source": [
    "import sys, urllib, re, json, socket, string\n",
    "import csv\n",
    "from bs4 import BeautifulSoup\n",
    "inputFileName= \"../input_file/Twitter_corpus_releaseset_external.txt\"\n",
    "\n",
    "\n",
    "outputFileName = \"../output_file/Training_set.csv\"\n",
    "output_file =open(outputFileName, 'wb')\n",
    "csv_writer = csv.writer(output_file)"
   ]
  },
  {
   "cell_type": "code",
   "execution_count": null,
   "metadata": {
    "collapsed": false
   },
   "outputs": [],
   "source": [
    "socket.setdefaulttimeout(20)\n",
    "item_dict = {}\n",
    "try:\n",
    "    #for line in open(sys.argv[1]):\n",
    "    count = 0 \n",
    "    for line in open(inputFileName):\n",
    "        fields = line.rstrip().split('\\t')\n",
    "        tweetid = fields[0]\n",
    "        userid = fields[1]\n",
    "        tweet = None\n",
    "        text = \"Not Available\"\n",
    "        if item_dict.has_key(tweetid):\n",
    "            text = item_dict[tweetid]\n",
    "        else:\n",
    "            try:\n",
    "                f = urllib.urlopen('http://twitter.com/'+str(userid)+'/status/'+str(tweetid))\n",
    "                html = f.read().replace(\"</html>\", \"\") + \"</html>\"\n",
    "                soup = BeautifulSoup(html)\n",
    "                jstt   = soup.find_all(\"p\", \"js-tweet-text\")\n",
    "                tweets = list(set([x.get_text() for x in jstt]))\n",
    "                if(len(tweets)) > 1:\n",
    "                    other_tweets = []\n",
    "                    cont   = soup.find_all(\"div\", \"content\")\n",
    "                    for i in cont:\n",
    "                        o_t = i.find_all(\"p\",\"js-tweet-text\")\n",
    "                        other_text = list(set([x.get_text() for x in o_t]))\n",
    "                        other_tweets += other_text\t\t\t\t\t\n",
    "                    tweets = list(set(tweets)-set(other_tweets))\n",
    "                    #print 'Other tweets\\n'\t\t\t\n",
    "                    #print other_tweets                \n",
    "                        #print tweets\n",
    "                    #print '\\n'        \n",
    "                    #continue\n",
    "                text = tweets[0]\n",
    "                item_dict[tweetid] = tweets[0]\n",
    "                for j in soup.find_all(\"input\", \"json-data\", id=\"init-data\"):\n",
    "                    js = json.loads(j['value'])\n",
    "                    if(js.has_key(\"embedData\")):\n",
    "                        tweet = js[\"embedData\"][\"status\"]\n",
    "                        text  = js[\"embedData\"][\"status\"][\"text\"]\n",
    "                        item_dict[tweetid] = text\n",
    "                        break\n",
    "            except Exception as err:\n",
    "                print (\" error: {0}\".format(err))\n",
    "                continue\n",
    "    \n",
    "        if(tweet != None and tweet[\"id_str\"] != tweetid):\n",
    "                text = \"This tweet has been removed or is not available\"\n",
    "                item_dict[tweetid] = \"This tweet has been removed or is not available\"\n",
    "        text = text.replace('\\n', ' ',)\n",
    "        text = re.sub(r'\\s+', ' ', text)\n",
    "        count += 1\n",
    "        print 'count : ', count \n",
    "        #print \"\\t\".join(fields + [text]).encode('utf-8')\n",
    "        #if not item_dict.has_key(tweetid):\n",
    "        to_write = \"\\t\".join(fields + [text]) + \"\\n\"\n",
    "        #output_file.write(to_write.encode('utf-8'))\n",
    "        csv_writer.writerow(fields + [text.encode('utf-8')])\n",
    " \n",
    "    output_file.close()\n",
    "    #file_csv.close()\n",
    "except IndexError:\n",
    "    print 'Incorrect arguments specified (may be you didn\\'t specify any arguments..'\n",
    "    print 'Format: python [scriptname] [inputfilename] > [outputfilename]'\n"
   ]
  },
  {
   "cell_type": "code",
   "execution_count": null,
   "metadata": {
    "collapsed": true
   },
   "outputs": [],
   "source": []
  }
 ],
 "metadata": {
  "anaconda-cloud": {},
  "kernelspec": {
   "display_name": "Python [Root]",
   "language": "python",
   "name": "Python [Root]"
  },
  "language_info": {
   "codemirror_mode": {
    "name": "ipython",
    "version": 2
   },
   "file_extension": ".py",
   "mimetype": "text/x-python",
   "name": "python",
   "nbconvert_exporter": "python",
   "pygments_lexer": "ipython2",
   "version": "2.7.12"
  }
 },
 "nbformat": 4,
 "nbformat_minor": 0
}

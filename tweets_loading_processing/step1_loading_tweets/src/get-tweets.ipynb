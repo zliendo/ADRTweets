{
 "cells": [
  {
   "cell_type": "code",
   "execution_count": 1,
   "metadata": {
    "collapsed": true
   },
   "outputs": [],
   "source": [
    "import get_tweets_utility\n",
    "import psycopg2\n",
    "import json\n"
   ]
  },
  {
   "cell_type": "code",
   "execution_count": 2,
   "metadata": {
    "collapsed": true
   },
   "outputs": [],
   "source": [
    "sargv =[\"system\", \"range\", \"2015-02-01\" ,  \"2015-02-07\"]\n",
    "#sargv =[\"system\", \"year-month\", \"2015\" ,  \"02\"]\n",
    "                                                          "
   ]
  },
  {
   "cell_type": "code",
   "execution_count": 3,
   "metadata": {
    "collapsed": false
   },
   "outputs": [],
   "source": [
    "#read configuration file\n",
    "with open('../config.json') as config_file:    \n",
    "    config_data = json.load(config_file)\n",
    "    \n",
    "output_directory_name = config_data[\"output_directory_name\"].encode('utf8')\n",
    "input_medications_file = config_data[\"medication_list_file\"].encode('utf8')\n",
    "dbdata = config_data[\"dbdata\"].encode('utf8')\n",
    "\n",
    "# get date boundary options\n",
    "argv = sargv[1:]\n"
   ]
  },
  {
   "cell_type": "code",
   "execution_count": 4,
   "metadata": {
    "collapsed": false,
    "scrolled": true
   },
   "outputs": [
    {
     "name": "stdout",
     "output_type": "stream",
     "text": [
      "***************** medication_name: humira, since: 2015-02-01, until: 2015-02-07\n",
      "processing - refreshCursor (tweet-id):   , count by page: 20, oldest_date: 2015-02-05\n",
      "processing - refreshCursor (tweet-id):  563521565292515330 , count by page: 20, oldest_date: 2015-02-05\n",
      "processing - refreshCursor (tweet-id):  563328707591303169 , count by page: 20, oldest_date: 2015-02-05\n",
      "processing - refreshCursor (tweet-id):  563313614548107263 , count by page: 20, oldest_date: 2015-02-04\n",
      "processing - refreshCursor (tweet-id):  563105667670478847 , count by page: 20, oldest_date: 2015-02-04\n",
      "processing - refreshCursor (tweet-id):  563059666935349247 , count by page: 20, oldest_date: 2015-02-04\n",
      "processing - refreshCursor (tweet-id):  562943167319015423 , count by page: 20, oldest_date: 2015-02-04\n",
      "processing - refreshCursor (tweet-id):  562905383300501503 , count by page: 17, oldest_date: 2015-02-03\n",
      "processing - refreshCursor (tweet-id):  562791206594547713 , count by page: 17, oldest_date: 2015-02-03\n",
      "processing - refreshCursor (tweet-id):  562742900946399234 , count by page: 17, oldest_date: 2015-02-03\n",
      "processing - refreshCursor (tweet-id):  562728912049168387 , count by page: 20, oldest_date: 2015-02-02\n",
      "processing - refreshCursor (tweet-id):  562456931382468607 , count by page: 20, oldest_date: 2015-02-01\n",
      "processing - refreshCursor (tweet-id):  562087507073183744 , count by page: 17, oldest_date: 2015-01-31\n",
      "tweet date:  2015-02-01\n",
      "the end\n",
      "***************** medication_name: dronedarone, since: 2015-02-01, until: 2015-02-07\n",
      "the end\n",
      "***************** medication_name: lamictal, since: 2015-02-01, until: 2015-02-07\n",
      "processing - refreshCursor (tweet-id):   , count by page: 13, oldest_date: 2015-02-05\n",
      "processing - refreshCursor (tweet-id):  563527331386384384 , count by page: 12, oldest_date: 2015-02-05\n",
      "processing - refreshCursor (tweet-id):  563387046106906624 , count by page: 12, oldest_date: 2015-02-04\n",
      "processing - refreshCursor (tweet-id):  563152570529890304 , count by page: 15, oldest_date: 2015-02-03\n",
      "processing - refreshCursor (tweet-id):  562764410725629951 , count by page: 20, oldest_date: 2015-02-02\n",
      "processing - refreshCursor (tweet-id):  562472633808068607 , count by page: 13, oldest_date: 2015-02-02\n",
      "processing - refreshCursor (tweet-id):  562262687434829823 , count by page: 17, oldest_date: 2015-01-31\n",
      "tweet date:  2015-02-01\n",
      "the end\n",
      "***************** medication_name: pradaxa, since: 2015-02-01, until: 2015-02-07\n",
      "processing - refreshCursor (tweet-id):   , count by page: 5, oldest_date: 2015-02-03\n",
      "the end\n"
     ]
    }
   ],
   "source": [
    "#execute program\n",
    "#-----------------------------------------------\n",
    "\n",
    "# get the data range based on the input paramters\n",
    "# (there are two ways to specify the date range)\n",
    "since_date, until_date = get_tweets_utility.get_range_date ( argv)\n",
    "\n",
    "\n",
    "# loop for each medication in the list of medications \n",
    "input_file = open(input_medications_file, 'rb')\n",
    "for line in input_file:\n",
    "    medication_name = line.strip()\n",
    "    if (len(medication_name) == 0):continue;\n",
    "    # gets the tweet information for a medication_name\n",
    "    print '***************** medication_name: %s, since: %s, until: %s' % ( medication_name,since_date, until_date)\n",
    "    get_tweets_utility.getTweetDataForMedication ( output_directory_name, dbdata, medication_name, since_date, \n",
    "\n",
    "until_date)\n",
    "\n",
    "input_file.close()\n",
    "\n"
   ]
  },
  {
   "cell_type": "code",
   "execution_count": null,
   "metadata": {
    "collapsed": true
   },
   "outputs": [],
   "source": []
  },
  {
   "cell_type": "code",
   "execution_count": null,
   "metadata": {
    "collapsed": true
   },
   "outputs": [],
   "source": []
  }
 ],
 "metadata": {
  "anaconda-cloud": {},
  "kernelspec": {
   "display_name": "Python [Root]",
   "language": "python",
   "name": "Python [Root]"
  },
  "language_info": {
   "codemirror_mode": {
    "name": "ipython",
    "version": 2
   },
   "file_extension": ".py",
   "mimetype": "text/x-python",
   "name": "python",
   "nbconvert_exporter": "python",
   "pygments_lexer": "ipython2",
   "version": "2.7.12"
  }
 },
 "nbformat": 4,
 "nbformat_minor": 0
}

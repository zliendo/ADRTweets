{
 "cells": [
  {
   "cell_type": "markdown",
   "metadata": {},
   "source": [
    "## Getting tweets as old as 1 week ago\n",
    "\n",
    "This script gets the tweets for a list of medications, as old as 1 week\n",
    "\n",
    "\n",
    "https://dev.twitter.com/rest/public/search\n",
    "\n",
    "\"At this time, users represented by access tokens can make 180 requests/queries per 15 minutes. Using application-only auth, an application can make 450 queries/requests per 15 minutes on its own behalf without a user context.\"\n",
    "\"count = The number of tweets to return per page, up to a maximum of 100. Defaults to 15.\"\n",
    "\"The Search API is not complete index of all Tweets, but instead an index of recent Tweets. At the moment that index includes between 6-9 days of Tweets.\"\n",
    "\n",
    "the results are just from the last 7 to 9 days"
   ]
  },
  {
   "cell_type": "code",
   "execution_count": 1,
   "metadata": {
    "collapsed": true
   },
   "outputs": [],
   "source": [
    "import sys\n",
    "import tweepy\n",
    "import datetime\n",
    "import urllib\n",
    "import signal\n",
    "import json\n",
    "from datetime import datetime, timedelta\n",
    "\n"
   ]
  },
  {
   "cell_type": "code",
   "execution_count": 2,
   "metadata": {
    "collapsed": false
   },
   "outputs": [],
   "source": [
    "#keys\n",
    "consumer_key = \" \"; \n",
    "consumer_secret = \" \"; \n",
    " \n",
    "access_token = \" \"; \n",
    "access_token_secret = \" \"; \n",
    "\n",
    "auth = tweepy.OAuthHandler(consumer_key, consumer_secret)\n",
    "auth.set_access_token(access_token, access_token_secret)\n",
    "\n",
    "api = tweepy.API(auth_handler=auth,wait_on_rate_limit=True,wait_on_rate_limit_notify=True)\n",
    "\n",
    "\n"
   ]
  },
  {
   "cell_type": "code",
   "execution_count": 9,
   "metadata": {
    "collapsed": true
   },
   "outputs": [],
   "source": [
    "class TweetFile:\n",
    "    out = None\n",
    "    first = True\n",
    "    def start(self, name=\"full\", type=\".json\"):\n",
    "        fname = \"data/tweets-\"+ name + type\n",
    "        self.out = open(fname,\"w\")\n",
    "        self.out.write(\"[\\n\")\n",
    "        self.first = True\n",
    "\n",
    "    def end(self):\n",
    "        if self.out is not None:\n",
    "            self.out.write(\"\\n]\\n\")\n",
    "            self.out.close()\n",
    "        self.out = None\n",
    "\n",
    "    def write(self,tweet):\n",
    "        if not self.first:\n",
    "            self.out.write(\",\\n\")\n",
    "        self.first = False\n",
    "        self.out.write(json.dumps(tweet._json).encode('utf8'))\n",
    "        \n",
    "    def write_text(self,text):\n",
    "        if not self.first:\n",
    "            self.out.write(\",\\n\")\n",
    "        self.first = False\n",
    "        self.out.write(text.encode('utf8'))"
   ]
  },
  {
   "cell_type": "code",
   "execution_count": 26,
   "metadata": {
    "collapsed": true
   },
   "outputs": [],
   "source": [
    "def getMedication(medication, since_date_run, until_date_run):\n",
    "    arg = medication  + \" since:\" + since_date_run + \" \" + \"until:\" + until_date_run\n",
    "    print (arg)\n",
    "    file_name = medication + \"-\" + since_date_run + \"--\" + until_date_run\n",
    "    file = TweetFile()\n",
    "    file.start(file_name, \".json\")\n",
    "    file_text = TweetFile()\n",
    "    file_text.start(file_name, \".txt\")\n",
    "    number_of_tweets = 0\n",
    "    last_date =  \"\"\n",
    "    for tweet in tweepy.Cursor(api.search,q=arg,lang='en').items(750): \n",
    "        file.write(tweet)\n",
    "        last_date = tweet._json['created_at']\n",
    "        file_text.write_text(\"--------------------------------\" + last_date)\n",
    "        file_text.write_text(tweet._json['text'])\n",
    "        number_of_tweets += 1\n",
    "    file.end()\n",
    "    file_text.end()\n",
    "    return (number_of_tweets, last_date)\n",
    " \n",
    "    "
   ]
  },
  {
   "cell_type": "code",
   "execution_count": 5,
   "metadata": {
    "collapsed": false
   },
   "outputs": [],
   "source": [
    "def get_medication_list(medications, since_date, until_date):\n",
    "    medication_list = medications.split(\",\")\n",
    "\n",
    "    until_date_run = until_date.strftime(\"%Y-%m-%d\")\n",
    "    since_date_run = since_date.strftime(\"%Y-%m-%d\")\n",
    "\n",
    "    # file to store summary inforamtion\n",
    "   \n",
    "    time_run = datetime.today().strftime(\"%H-%M-%S\")\n",
    "    summary_file = TweetFile()\n",
    "    summary_file.start(\"summary_\"+since_date_run + \"--\" + until_date_run+ \"-\" + time_run, \".json\")\n",
    "\n",
    "    for medication in medication_list:\n",
    "        medication = medication.strip()\n",
    "        number_of_tweets, last_date = getMedication (medication, since_date_run, until_date_run)\n",
    "        if (number_of_tweets == 0):\n",
    "            oldest_date = \"null\"\n",
    "            \n",
    "        else:\n",
    "            date_object = datetime.strptime(last_date, '%a %b %d %X +0000 %Y')\n",
    "            oldest_date = date_object.strftime(\"%Y-%m-%d\")      \n",
    "        \n",
    "        summary = {}\n",
    "        summary[\"medication\"] = medication\n",
    "        summary[\"oldest-date\"] = oldest_date\n",
    "        summary[\"since_date_run\"] = since_date_run\n",
    "        summary[\"until_date_run\"] = until_date_run\n",
    "        summary[\"number-of-tweets\"] = number_of_tweets\n",
    "        summary_json = json.dumps(summary, ensure_ascii=False)\n",
    "        print  \"medication: %s, oldest-date: %s, run-date: %s, number-of-tweets: %s\" %(medication, oldest_date, until_date_run, number_of_tweets)\n",
    "        summary_file.write_text(summary_json)\n",
    "    summary_file.end()\n",
    "\n"
   ]
  },
  {
   "cell_type": "code",
   "execution_count": 24,
   "metadata": {
    "collapsed": false
   },
   "outputs": [
    {
     "name": "stdout",
     "output_type": "stream",
     "text": [
      "medication: humira, oldest-date: 2016-10-29, run-date: 2016-11-07, number-of-tweets: 263\n",
      "medication:  dronedarone, oldest-date: 2016-11-06, run-date: 2016-11-07, number-of-tweets: 1\n",
      "medication:  lamictal, oldest-date: 2016-10-29, run-date: 2016-11-07, number-of-tweets: 108\n",
      "medication:  pradaxa, oldest-date: 2016-10-29, run-date: 2016-11-07, number-of-tweets: 28\n",
      "medication:  paxil, oldest-date: 2016-10-29, run-date: 2016-11-07, number-of-tweets: 334\n",
      "medication:  zoledronic acid, oldest-date: 2016-10-31, run-date: 2016-11-07, number-of-tweets: 14\n",
      "medication:  trazodone, oldest-date: 2016-10-29, run-date: 2016-11-07, number-of-tweets: 132\n",
      "medication:  enbrel, oldest-date: 2016-10-29, run-date: 2016-11-07, number-of-tweets: 172\n",
      "medication:  cymbalta, oldest-date: 2016-10-29, run-date: 2016-11-07, number-of-tweets: 250\n"
     ]
    }
   ],
   "source": [
    "    \n",
    "until_date = datetime.today()\n",
    "since_date = until_date - timedelta(days=9)\n",
    "\n",
    "#medication lists \n",
    "medications = \"humira,dronedarone,lamictal,pradaxa,paxil,zoledronic acid,trazodone,enbrel,cymbalta\"\n",
    "#medications = \"quetiapine,cipro,lozenge\"\n",
    "#medications = \"dabigatran,olanzapine,fluoxetine,vyvanse\"\n",
    "#medications = \"seroquel,fosamax,paroxetine,effexor\"\n",
    "#medications = \"nicotine,prozac,tysabri,rivaroxaban,baclofen,lamotrigine,venlafaxine\"\n",
    "#medications = \"apixaban,avelox,levaquin,zyprexa,duloxetine\"\n",
    "#medications = \"ofloxacin,geodon,victoza,metoprolol,viibryd,pristiq\"\n",
    "#medications = \"nesina,factive\"\n",
    "#medications = \"nesina,factive,gamma-aminobutyric acid,sabril\"\n",
    "#medications = \"livalo,denosumab,bystolic,xarelto,floxin,boniva,saphris\"\n",
    "#medications = \"ziprasidone,memantine,namenda,latuda,fycompa,canagliflozin,zometa,etanercept\"\n",
    "#medications = \"lurasidone,alendronate,linagliptin,effient,vimpat,eliquis,liraglutide,pregabalin\"\n",
    "#medications = \"onglyza,nicotrol inhaler,lyrica,invokana,commitlozenge,actonel,nicotrolinhaler,synthroid,albuterol\"\n",
    "#medications = \"nasonex,spiriva,suboxone,nexium,januvia,valsartan,tamiflu\"\n",
    "\n",
    "get_medication_list(medications,since_date, until_date)\n"
   ]
  },
  {
   "cell_type": "markdown",
   "metadata": {
    "collapsed": true
   },
   "source": [
    "Notes:\n",
    "\n",
    "* The following medications reached the limit of 750, which means that there are more tahn 750 tweets in the last 9 days:\n",
    "\n",
    "    ** prozac, \n",
    "    \n",
    "    ** nicotine, \n",
    "    \n",
    "    ** lyrica \n",
    "\n",
    "    "
   ]
  }
 ],
 "metadata": {
  "anaconda-cloud": {},
  "kernelspec": {
   "display_name": "Python [Root]",
   "language": "python",
   "name": "Python [Root]"
  },
  "language_info": {
   "codemirror_mode": {
    "name": "ipython",
    "version": 2
   },
   "file_extension": ".py",
   "mimetype": "text/x-python",
   "name": "python",
   "nbconvert_exporter": "python",
   "pygments_lexer": "ipython2",
   "version": "2.7.12"
  }
 },
 "nbformat": 4,
 "nbformat_minor": 0
}

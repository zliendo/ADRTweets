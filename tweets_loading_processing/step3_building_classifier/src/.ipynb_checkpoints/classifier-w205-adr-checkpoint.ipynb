{
 "cells": [
  {
   "cell_type": "markdown",
   "metadata": {},
   "source": [
    "This code is based on the classifier provided by Dr. Asarker\n",
    "https://bitbucket.org/asarker/adrbinaryclassifier\n",
    "from HLP @ UPenn IBI\n",
    "https://healthlanguageprocessing.org/\n",
    "formerly DIEGO lab at ASU\n",
    "http://diego.asu.edu/\n",
    "\n",
    "The following customizations were done:\n",
    "* read training data from csv file\n",
    "* split records into training and development sets\n",
    "* calculat RUC-AUC scores \n",
    "* download nltk packages during setup \n",
    "* write classifiers and vectorizers trained into PKL files for later use \n",
    "* fixing a minor bug (sent fix to Dr. Asarker)\n",
    "* tuning c and w hyperparameters\n",
    "* some re-factoring (not much)\n"
   ]
  },
  {
   "cell_type": "code",
   "execution_count": 12,
   "metadata": {
    "collapsed": true
   },
   "outputs": [],
   "source": [
    "import csv\n",
    "from random import shuffle\n",
    "import numpy as np\n",
    "\n",
    "from sklearn.linear_model import LogisticRegression\n",
    "from sklearn import metrics\n",
    "import pickle"
   ]
  },
  {
   "cell_type": "code",
   "execution_count": 3,
   "metadata": {
    "collapsed": true
   },
   "outputs": [],
   "source": [
    "import string,nltk,codecs\n",
    "from nltk.stem.porter import *\n",
    "from sklearn.feature_extraction.text import CountVectorizer,TfidfVectorizer\n",
    "from sklearn import preprocessing\n",
    "from sklearn.metrics import accuracy_score\n",
    "import numpy as np\n",
    "from nltk.corpus import stopwords\n",
    "from sklearn import svm\n",
    "from collections import defaultdict"
   ]
  },
  {
   "cell_type": "code",
   "execution_count": 4,
   "metadata": {
    "collapsed": false
   },
   "outputs": [
    {
     "name": "stdout",
     "output_type": "stream",
     "text": [
      "number of examples: 4885\n",
      "training data examples: 3908\n",
      "dev data examples: 977\n"
     ]
    }
   ],
   "source": [
    "# reading tweet corpus file and split in training and dev sets\n",
    "#-------------------------------------------------------------\n",
    "\n",
    "with open('../../step2_getting_training_set/output_file/Training_set.csv', 'rb') as f:\n",
    "    reader = csv.reader(f)\n",
    "    tweet_list = list(reader)\n",
    "shuffle(tweet_list)\n",
    "\n",
    "tweets = np.array(tweet_list)\n",
    "number_of_tweets = len(tweets)\n",
    "\n",
    "# splitting data: 80% for training, 20% for dev\n",
    "training_size = int (0.8 * number_of_tweets)\n",
    "dev_size  = number_of_tweets - training_size\n",
    "\n",
    "print \"number of examples:\", number_of_tweets\n",
    "print \"training data examples:\", training_size\n",
    "print \"dev data examples:\",dev_size\n",
    "\n",
    "training_info = tweets[0:training_size]\n",
    "dev_info = tweets[training_size:]\n",
    "\n",
    "\n",
    "training_data, training_labels = training_info[:,3] , training_info[:,2]\n",
    "dev_data, dev_labels = dev_info[:,3] , dev_info[:,2]"
   ]
  },
  {
   "cell_type": "code",
   "execution_count": 5,
   "metadata": {
    "collapsed": false
   },
   "outputs": [],
   "source": [
    "#nltk.download('punkt')\n",
    "#[nltk_data] Downloading package punkt to C:\\Users\\bsc-\n",
    "#[nltk_data]     default\\AppData\\Roaming\\nltk_data...\n",
    "#[nltk_data]   Unzipping tokenizers\\punkt.zip.\n",
    "\n",
    "#nltk.download('averaged_perceptron_tagger')\n",
    "#[nltk_data] Downloading package averaged_perceptron_tagger to C:\\Users\n",
    "#[nltk_data]     \\bsc-default\\AppData\\Roaming\\nltk_data...\n",
    "#[nltk_data]   Unzipping taggers\\averaged_perceptron_tagger.zip.\n",
    "\n",
    "#nltk.download('universal_tagset')\n",
    "\n",
    "#[nltk_data] Downloading package universal_tagset to C:\\Users\\bsc-\n",
    "#[nltk_data]     default\\AppData\\Roaming\\nltk_data...\n",
    "#[nltk_data]   Unzipping taggers\\universal_tagset.zip.\n",
    "\n",
    "#nltk.download('wordnet')\n",
    "#[nltk_data] Downloading package wordnet to C:\\Users\\bsc-\n",
    "#[nltk_data]     default\\AppData\\Roaming\\nltk_data...\n",
    "#[nltk_data]   Unzipping corpora\\wordnet.zip."
   ]
  },
  {
   "cell_type": "code",
   "execution_count": 6,
   "metadata": {
    "collapsed": false
   },
   "outputs": [],
   "source": [
    "from featureextractionmodules.FeatureExtractionUtilities import FeatureExtractionUtilities\n",
    "stemmer = PorterStemmer()\n",
    "def loadFeatureExtractionModuleItems():\n",
    "    FeatureExtractionUtilities.loadItems()\n"
   ]
  },
  {
   "cell_type": "code",
   "execution_count": 7,
   "metadata": {
    "collapsed": false
   },
   "outputs": [],
   "source": [
    "global good_words\n",
    "global bad_words\n",
    "global more_words\n",
    "global less_words\n",
    "global senti_words\n",
    "global modals\n",
    "global topic_dict\n",
    "loadFeatureExtractionModuleItems()\n",
    "    \n"
   ]
  },
  {
   "cell_type": "code",
   "execution_count": 9,
   "metadata": {
    "collapsed": false
   },
   "outputs": [],
   "source": [
    "def processRecord (_text, _class, data_set, unstemmed_texts) :\n",
    "    #_text = string.lower(string.strip(items[1]))            \n",
    "    #_class = string.strip(items[-1])\n",
    "    _text = string.lower(string.strip(_text))\n",
    "    _class = string.strip(_class)\n",
    "    _text = _text.decode('utf8','ignore').encode('ascii','ignore')\n",
    "    senttokens = nltk.word_tokenize(_text)\n",
    "    stemmed_text = ''\n",
    "    for t in senttokens:\n",
    "        stemmed_text += ' ' + stemmer.stem(t)\n",
    "    unstemmed_texts.append(_text)\n",
    "               \n",
    "    data_set['synsets'].append(FeatureExtractionUtilities.getSynsetString(_text, None))\n",
    "    data_set['clusters'].append(FeatureExtractionUtilities.getclusterfeatures(_text))\n",
    "\n",
    "    data_set['text'].append(stemmed_text)          \n",
    "    data_set['class'].append(_class)"
   ]
  },
  {
   "cell_type": "code",
   "execution_count": 10,
   "metadata": {
    "collapsed": false
   },
   "outputs": [
    {
     "name": "stderr",
     "output_type": "stream",
     "text": [
      "featureextractionmodules\\FeatureExtractionUtilities.py:261: UnicodeWarning: Unicode equal comparison failed to convert both arguments to Unicode - interpreting them as being unequal\n",
      "  if t in FeatureExtractionUtilities.word_clusters[k]:\n"
     ]
    },
    {
     "name": "stdout",
     "output_type": "stream",
     "text": [
      "Generating training set sentiment features .. \n",
      "count:  100\n",
      "count:  200\n",
      "count:  300\n",
      "count:  400\n",
      "count:  500\n",
      "count:  600\n",
      "count:  700\n",
      "count:  800\n",
      "count:  900\n",
      "count:  1000\n",
      "count:  1100\n",
      "count:  1200\n",
      "count:  1300\n",
      "count:  1400\n",
      "count:  1500\n",
      "count:  1600\n",
      "count:  1700\n",
      "count:  1800\n",
      "count:  1900\n",
      "count:  2000\n",
      "count:  2100\n",
      "count:  2200\n",
      "count:  2300\n",
      "count:  2400\n",
      "count:  2500\n",
      "count:  2600\n",
      "count:  2700\n",
      "count:  2800\n",
      "count:  2900\n",
      "count:  3000\n",
      "count:  3100\n",
      "count:  3200\n",
      "count:  3300\n",
      "count:  3400\n",
      "count:  3500\n",
      "count:  3600\n",
      "count:  3700\n",
      "count:  3800\n",
      "count:  3900\n"
     ]
    }
   ],
   "source": [
    "# Generate the training set features...\n",
    "training_set = defaultdict(list)\n",
    "unstemmed_texts = []\n",
    "for i in range (len(training_data)):\n",
    "    processRecord(training_data[i], training_labels[i], training_set, unstemmed_texts)\n",
    "print 'Generating training set sentiment features .. '\n",
    "training_set['sentiments'] = FeatureExtractionUtilities.getsentimentfeatures(unstemmed_texts)\n",
    "training_set['structuralfeatures'] = FeatureExtractionUtilities.getstructuralfeatures(unstemmed_texts)  \n",
    "scaler1 = preprocessing.StandardScaler().fit( training_set['structuralfeatures'])  \n",
    "train_structural_features = scaler1.transform( training_set['structuralfeatures'])\n",
    "training_set['adrlexicon'] = FeatureExtractionUtilities.getlexiconfeatures(unstemmed_texts)\n",
    "training_set['topictexts'],training_set['topics'] = FeatureExtractionUtilities.gettopicscores(training_set['text'])\n",
    "training_set['goodbad'] = FeatureExtractionUtilities.goodbadFeatures(training_set['text'])"
   ]
  },
  {
   "cell_type": "code",
   "execution_count": 13,
   "metadata": {
    "collapsed": false
   },
   "outputs": [],
   "source": [
    "output = open('../scaler1.pkl', 'wb')\n",
    "pickle.dump(scaler1, output)\n",
    "output.close()"
   ]
  },
  {
   "cell_type": "code",
   "execution_count": 14,
   "metadata": {
    "collapsed": true
   },
   "outputs": [],
   "source": [
    "# Initialize the vectorizers\n",
    "#vectorizer = TfidfVectorizer(min_df = 35,ngram_range=(1,3))\n",
    "vectorizer = CountVectorizer(ngram_range=(1,3), analyzer = \"word\", tokenizer = None, preprocessor = None, max_features = 5000)\n",
    "synsetvectorizer = CountVectorizer(ngram_range=(1,1),analyzer=\"word\",tokenizer=None,preprocessor=None,max_features = 2000)\n",
    "clustervectorizer = CountVectorizer(ngram_range=(1,1),analyzer=\"word\",tokenizer=None,preprocessor=None,max_features = 1000)\n",
    "topicvectorizer = CountVectorizer(ngram_range=(1,1),analyzer=\"word\",tokenizer=None,preprocessor=None,max_features=500)"
   ]
  },
  {
   "cell_type": "code",
   "execution_count": 16,
   "metadata": {
    "collapsed": true
   },
   "outputs": [],
   "source": [
    "'''\n",
    "    Generate the data vectors\n",
    "'''\n",
    "trained_data = vectorizer.fit_transform(training_set['text']).toarray()\n",
    "train_data_synset_vector = synsetvectorizer.fit_transform(training_set['synsets']).toarray()\n",
    "train_data_cluster_vector = clustervectorizer.fit_transform(training_set['clusters']).toarray()\n",
    "train_data_topic_vector = topicvectorizer.fit_transform(training_set['topictexts']).toarray()\n",
    "    \n",
    "'''\n",
    "    Concatenate the various feature arrays\n",
    "'''\n",
    "trained_data = np.concatenate((trained_data,train_data_synset_vector),axis=1)\n",
    "trained_data = np.concatenate((trained_data,training_set['sentiments']),axis=1)\n",
    "trained_data = np.concatenate((trained_data,train_data_cluster_vector),axis=1)\n",
    "trained_data = np.concatenate((trained_data,train_structural_features),axis=1)\n",
    "trained_data = np.concatenate((trained_data,training_set['adrlexicon']),axis=1)\n",
    "trained_data = np.concatenate((trained_data,training_set['topics']),axis=1)\n",
    "trained_data = np.concatenate((trained_data,train_data_topic_vector),axis=1)\n",
    "trained_data = np.concatenate((trained_data,training_set['goodbad']),axis=1)"
   ]
  },
  {
   "cell_type": "code",
   "execution_count": 21,
   "metadata": {
    "collapsed": true
   },
   "outputs": [],
   "source": [
    "# save vectorizers\n",
    "output = open('../vectorizer.pkl', 'wb')\n",
    "pickle.dump(vectorizer, output)\n",
    "output.close()\n",
    "\n",
    "output = open('../synsetvectorizer.pkl', 'wb')\n",
    "pickle.dump(synsetvectorizer, output)\n",
    "output.close()\n",
    "\n",
    "output = open('../clustervectorizer.pkl', 'wb')\n",
    "pickle.dump(clustervectorizer, output)\n",
    "output.close()\n",
    "\n",
    "output = open('../topicvectorizer.pkl', 'wb')\n",
    "pickle.dump(topicvectorizer, output)\n",
    "output.close()"
   ]
  },
  {
   "cell_type": "code",
   "execution_count": 17,
   "metadata": {
    "collapsed": false
   },
   "outputs": [
    {
     "name": "stdout",
     "output_type": "stream",
     "text": [
      "Generating test set sentiment features .. \n",
      "count:  100\n",
      "count:  200\n",
      "count:  300\n",
      "count:  400\n",
      "count:  500\n",
      "count:  600\n",
      "count:  700\n",
      "count:  800\n",
      "count:  900\n"
     ]
    }
   ],
   "source": [
    "# Generate the test set features...\n",
    "test_set = defaultdict(list)\n",
    "unstemmed_texts = []\n",
    "for i in range (len(dev_data)):\n",
    "    processRecord(dev_data[i], dev_labels[i], test_set, unstemmed_texts)\n",
    "print 'Generating test set sentiment features .. '            \n",
    "test_set['sentiments'] = FeatureExtractionUtilities.getsentimentfeatures(unstemmed_texts)\n",
    "test_set['structuralfeatures'] = FeatureExtractionUtilities.getstructuralfeatures(unstemmed_texts)\n",
    "test_structural_features = scaler1.transform(test_set['structuralfeatures'])\n",
    "test_set['adrlexicon'] = FeatureExtractionUtilities.getlexiconfeatures(unstemmed_texts) \n",
    "test_set['topictexts'],test_set['topics'] = FeatureExtractionUtilities.gettopicscores(test_set['text'])\n",
    "test_set['goodbad'] = FeatureExtractionUtilities.goodbadFeatures(test_set['text'])\n",
    "\n",
    "\n",
    "'''\n",
    "        Fit the test data \n",
    "'''\n",
    "test_data = vectorizer.transform(test_set['text']).toarray()\n",
    "test_data_synset_vectors = synsetvectorizer.transform(test_set['synsets']).toarray()\n",
    "test_data_cluster_vectors = clustervectorizer.transform(test_set['clusters']).toarray()\n",
    "test_data_topic_vectors = topicvectorizer.transform(test_set['topictexts']).toarray()\n",
    "    \n",
    "    \n",
    "    \n",
    "'''\n",
    "        Concatenate the test feature arrays\n",
    "'''\n",
    "test_data = np.concatenate((test_data,test_data_synset_vectors),axis=1)\n",
    "test_data = np.concatenate((test_data,test_set['sentiments']),axis=1)\n",
    "test_data = np.concatenate((test_data,test_data_cluster_vectors),axis=1)\n",
    "test_data = np.concatenate((test_data,test_structural_features),axis=1)\n",
    "test_data = np.concatenate((test_data,test_set['adrlexicon']),axis=1)\n",
    "test_data = np.concatenate((test_data,test_set['topics']),axis=1)\n",
    "test_data = np.concatenate((test_data,test_data_topic_vectors),axis=1)\n",
    "test_data = np.concatenate((test_data,test_set['goodbad']),axis=1)"
   ]
  },
  {
   "cell_type": "code",
   "execution_count": 18,
   "metadata": {
    "collapsed": true
   },
   "outputs": [],
   "source": [
    "def calculateScores(predicted_labels,test_gold_classes):\n",
    "    try:\n",
    "        tp=0.0\n",
    "        tn=0.0\n",
    "        fn=0.0\n",
    "        fp=0.0\n",
    "        #print result\n",
    "        #print test_gold_classes\n",
    "        for pred,gold in zip(predicted_labels,test_gold_classes):\n",
    "            if pred == '1' and gold == '1':\n",
    "                tp+=1\n",
    "            if pred == '1' and gold == '0':\n",
    "                fp+=1\n",
    "            if pred == '0' and gold == '0':\n",
    "                tn +=1\n",
    "            if pred == '0' and gold == '1':\n",
    "                fn+=1\n",
    "        adr_prec = tp/(tp+fp)\n",
    "        adr_rec = tp/(tp+fn)\n",
    "        fscore = (2*adr_prec*adr_rec)/(adr_prec + adr_rec)\n",
    "        print 'Precision for the ADR class .. ' + str(adr_prec)\n",
    "        print 'Recall for the ADR class .. ' + str(adr_rec)\n",
    "        print 'ADR F-score .. ' + str(fscore)\n",
    "    except ZeroDivisionError:\n",
    "        print 'There was a zerodivisionerror'\n",
    "        print 'Precision for the ADR class .. ' + str(0)\n",
    "        print 'Recall for the ADR class .. ' + str(0)\n",
    "        print 'ADR F-score .. ' + str(0)\n"
   ]
  },
  {
   "cell_type": "code",
   "execution_count": 28,
   "metadata": {
    "collapsed": false
   },
   "outputs": [],
   "source": [
    "output = open('../trained_data.pkl', 'wb')\n",
    "pickle.dump(trained_data, output)\n",
    "output.close()\n",
    "\n",
    "output = open('../training_set.pkl', 'wb')\n",
    "pickle.dump(training_set, output)\n",
    "output.close()\n",
    "\n",
    "output = open('../test_set.pkl', 'wb')\n",
    "pickle.dump(test_set, output)\n",
    "output.close()\n",
    "\n",
    "output = open('../test_data.pkl', 'wb')\n",
    "pickle.dump(test_data, output)\n",
    "output.close()\n",
    "\n"
   ]
  },
  {
   "cell_type": "code",
   "execution_count": 31,
   "metadata": {
    "collapsed": false
   },
   "outputs": [],
   "source": [
    "def classify(c, w):\n",
    "\n",
    "    # training the svms\n",
    "    svm_classifier = svm.SVC(C=c, cache_size=200, class_weight={'1':w,'0':1}, coef0=0.0, degree=3, \n",
    "                             gamma=0.0, kernel='rbf', max_iter=-1, probability=True, random_state=None,\n",
    "                             shrinking=True, tol=0.001, verbose=False)\n",
    "    \n",
    "    svm_classifier = svm_classifier.fit(trained_data, training_set['class'])\n",
    "    \n",
    "    # making the predictions    \n",
    "    result = svm_classifier.predict(test_data)\n",
    "\n",
    "    \n",
    "    #print accuracy_score(test_data['class'],result)\n",
    "    #compute the ADR F-score\n",
    "    test_gold_classes = test_set['class']\n",
    "    calculateScores(result,test_gold_classes)\n",
    "    \n",
    "    #calculate ROC AUC\n",
    "    predicted_prob = svm_classifier.predict_proba(test_data) \n",
    "    #print (model.classes_)\n",
    "    fpr, tpr, thresholds = metrics.roc_curve(test_gold_classes, predicted_prob[:,1], pos_label = '1')\n",
    "    roc_auc = metrics.auc(fpr, tpr)\n",
    "    print 'roc_auc', roc_auc\n",
    "    \n",
    "    \n",
    "    \n",
    "    \n",
    "    return svm_classifier\n"
   ]
  },
  {
   "cell_type": "code",
   "execution_count": 24,
   "metadata": {
    "collapsed": false
   },
   "outputs": [
    {
     "name": "stdout",
     "output_type": "stream",
     "text": [
      "c: 100, w: 1\n"
     ]
    },
    {
     "name": "stderr",
     "output_type": "stream",
     "text": [
      "C:\\Users\\bsc-default\\Anaconda2\\lib\\site-packages\\sklearn\\svm\\base.py:85: DeprecationWarning: gamma=0.0 has been deprecated in favor of gamma='auto' as of 0.17. Backward compatibility for gamma=0.0 will be removed in 0.18\n",
      "  DeprecationWarning)\n"
     ]
    },
    {
     "name": "stdout",
     "output_type": "stream",
     "text": [
      "Precision for the ADR class .. 0.565217391304\n",
      "Recall for the ADR class .. 0.292134831461\n",
      "ADR F-score .. 0.385185185185\n",
      "c: 100, w: 2\n"
     ]
    },
    {
     "name": "stderr",
     "output_type": "stream",
     "text": [
      "C:\\Users\\bsc-default\\Anaconda2\\lib\\site-packages\\sklearn\\svm\\base.py:85: DeprecationWarning: gamma=0.0 has been deprecated in favor of gamma='auto' as of 0.17. Backward compatibility for gamma=0.0 will be removed in 0.18\n",
      "  DeprecationWarning)\n"
     ]
    },
    {
     "name": "stdout",
     "output_type": "stream",
     "text": [
      "Precision for the ADR class .. 0.525641025641\n",
      "Recall for the ADR class .. 0.460674157303\n",
      "ADR F-score .. 0.491017964072\n",
      "c: 100, w: 3\n"
     ]
    },
    {
     "name": "stderr",
     "output_type": "stream",
     "text": [
      "C:\\Users\\bsc-default\\Anaconda2\\lib\\site-packages\\sklearn\\svm\\base.py:85: DeprecationWarning: gamma=0.0 has been deprecated in favor of gamma='auto' as of 0.17. Backward compatibility for gamma=0.0 will be removed in 0.18\n",
      "  DeprecationWarning)\n"
     ]
    },
    {
     "name": "stdout",
     "output_type": "stream",
     "text": [
      "Precision for the ADR class .. 0.517647058824\n",
      "Recall for the ADR class .. 0.494382022472\n",
      "ADR F-score .. 0.505747126437\n",
      "c: 100, w: 4\n"
     ]
    },
    {
     "name": "stderr",
     "output_type": "stream",
     "text": [
      "C:\\Users\\bsc-default\\Anaconda2\\lib\\site-packages\\sklearn\\svm\\base.py:85: DeprecationWarning: gamma=0.0 has been deprecated in favor of gamma='auto' as of 0.17. Backward compatibility for gamma=0.0 will be removed in 0.18\n",
      "  DeprecationWarning)\n"
     ]
    },
    {
     "name": "stdout",
     "output_type": "stream",
     "text": [
      "Precision for the ADR class .. 0.450980392157\n",
      "Recall for the ADR class .. 0.516853932584\n",
      "ADR F-score .. 0.48167539267\n",
      "c: 110, w: 1\n"
     ]
    },
    {
     "name": "stderr",
     "output_type": "stream",
     "text": [
      "C:\\Users\\bsc-default\\Anaconda2\\lib\\site-packages\\sklearn\\svm\\base.py:85: DeprecationWarning: gamma=0.0 has been deprecated in favor of gamma='auto' as of 0.17. Backward compatibility for gamma=0.0 will be removed in 0.18\n",
      "  DeprecationWarning)\n"
     ]
    },
    {
     "name": "stdout",
     "output_type": "stream",
     "text": [
      "Precision for the ADR class .. 0.54347826087\n",
      "Recall for the ADR class .. 0.280898876404\n",
      "ADR F-score .. 0.37037037037\n",
      "c: 110, w: 2\n"
     ]
    },
    {
     "name": "stderr",
     "output_type": "stream",
     "text": [
      "C:\\Users\\bsc-default\\Anaconda2\\lib\\site-packages\\sklearn\\svm\\base.py:85: DeprecationWarning: gamma=0.0 has been deprecated in favor of gamma='auto' as of 0.17. Backward compatibility for gamma=0.0 will be removed in 0.18\n",
      "  DeprecationWarning)\n"
     ]
    },
    {
     "name": "stdout",
     "output_type": "stream",
     "text": [
      "Precision for the ADR class .. 0.532467532468\n",
      "Recall for the ADR class .. 0.460674157303\n",
      "ADR F-score .. 0.493975903614\n",
      "c: 110, w: 3\n"
     ]
    },
    {
     "name": "stderr",
     "output_type": "stream",
     "text": [
      "C:\\Users\\bsc-default\\Anaconda2\\lib\\site-packages\\sklearn\\svm\\base.py:85: DeprecationWarning: gamma=0.0 has been deprecated in favor of gamma='auto' as of 0.17. Backward compatibility for gamma=0.0 will be removed in 0.18\n",
      "  DeprecationWarning)\n"
     ]
    },
    {
     "name": "stdout",
     "output_type": "stream",
     "text": [
      "Precision for the ADR class .. 0.5\n",
      "Recall for the ADR class .. 0.494382022472\n",
      "ADR F-score .. 0.497175141243\n",
      "c: 110, w: 4\n"
     ]
    },
    {
     "name": "stderr",
     "output_type": "stream",
     "text": [
      "C:\\Users\\bsc-default\\Anaconda2\\lib\\site-packages\\sklearn\\svm\\base.py:85: DeprecationWarning: gamma=0.0 has been deprecated in favor of gamma='auto' as of 0.17. Backward compatibility for gamma=0.0 will be removed in 0.18\n",
      "  DeprecationWarning)\n"
     ]
    },
    {
     "name": "stdout",
     "output_type": "stream",
     "text": [
      "Precision for the ADR class .. 0.463917525773\n",
      "Recall for the ADR class .. 0.505617977528\n",
      "ADR F-score .. 0.483870967742\n",
      "c: 115, w: 1\n"
     ]
    },
    {
     "name": "stderr",
     "output_type": "stream",
     "text": [
      "C:\\Users\\bsc-default\\Anaconda2\\lib\\site-packages\\sklearn\\svm\\base.py:85: DeprecationWarning: gamma=0.0 has been deprecated in favor of gamma='auto' as of 0.17. Backward compatibility for gamma=0.0 will be removed in 0.18\n",
      "  DeprecationWarning)\n"
     ]
    },
    {
     "name": "stdout",
     "output_type": "stream",
     "text": [
      "Precision for the ADR class .. 0.566037735849\n",
      "Recall for the ADR class .. 0.337078651685\n",
      "ADR F-score .. 0.422535211268\n",
      "c: 115, w: 2\n"
     ]
    },
    {
     "name": "stderr",
     "output_type": "stream",
     "text": [
      "C:\\Users\\bsc-default\\Anaconda2\\lib\\site-packages\\sklearn\\svm\\base.py:85: DeprecationWarning: gamma=0.0 has been deprecated in favor of gamma='auto' as of 0.17. Backward compatibility for gamma=0.0 will be removed in 0.18\n",
      "  DeprecationWarning)\n"
     ]
    },
    {
     "name": "stdout",
     "output_type": "stream",
     "text": [
      "Precision for the ADR class .. 0.525641025641\n",
      "Recall for the ADR class .. 0.460674157303\n",
      "ADR F-score .. 0.491017964072\n",
      "c: 115, w: 3\n"
     ]
    },
    {
     "name": "stderr",
     "output_type": "stream",
     "text": [
      "C:\\Users\\bsc-default\\Anaconda2\\lib\\site-packages\\sklearn\\svm\\base.py:85: DeprecationWarning: gamma=0.0 has been deprecated in favor of gamma='auto' as of 0.17. Backward compatibility for gamma=0.0 will be removed in 0.18\n",
      "  DeprecationWarning)\n"
     ]
    },
    {
     "name": "stdout",
     "output_type": "stream",
     "text": [
      "Precision for the ADR class .. 0.494382022472\n",
      "Recall for the ADR class .. 0.494382022472\n",
      "ADR F-score .. 0.494382022472\n",
      "c: 115, w: 4\n"
     ]
    },
    {
     "name": "stderr",
     "output_type": "stream",
     "text": [
      "C:\\Users\\bsc-default\\Anaconda2\\lib\\site-packages\\sklearn\\svm\\base.py:85: DeprecationWarning: gamma=0.0 has been deprecated in favor of gamma='auto' as of 0.17. Backward compatibility for gamma=0.0 will be removed in 0.18\n",
      "  DeprecationWarning)\n"
     ]
    },
    {
     "name": "stdout",
     "output_type": "stream",
     "text": [
      "Precision for the ADR class .. 0.463917525773\n",
      "Recall for the ADR class .. 0.505617977528\n",
      "ADR F-score .. 0.483870967742\n",
      "c: 120, w: 1\n"
     ]
    },
    {
     "name": "stderr",
     "output_type": "stream",
     "text": [
      "C:\\Users\\bsc-default\\Anaconda2\\lib\\site-packages\\sklearn\\svm\\base.py:85: DeprecationWarning: gamma=0.0 has been deprecated in favor of gamma='auto' as of 0.17. Backward compatibility for gamma=0.0 will be removed in 0.18\n",
      "  DeprecationWarning)\n"
     ]
    },
    {
     "name": "stdout",
     "output_type": "stream",
     "text": [
      "Precision for the ADR class .. 0.566037735849\n",
      "Recall for the ADR class .. 0.337078651685\n",
      "ADR F-score .. 0.422535211268\n",
      "c: 120, w: 2\n"
     ]
    },
    {
     "name": "stderr",
     "output_type": "stream",
     "text": [
      "C:\\Users\\bsc-default\\Anaconda2\\lib\\site-packages\\sklearn\\svm\\base.py:85: DeprecationWarning: gamma=0.0 has been deprecated in favor of gamma='auto' as of 0.17. Backward compatibility for gamma=0.0 will be removed in 0.18\n",
      "  DeprecationWarning)\n"
     ]
    },
    {
     "name": "stdout",
     "output_type": "stream",
     "text": [
      "Precision for the ADR class .. 0.525641025641\n",
      "Recall for the ADR class .. 0.460674157303\n",
      "ADR F-score .. 0.491017964072\n",
      "c: 120, w: 3\n"
     ]
    },
    {
     "name": "stderr",
     "output_type": "stream",
     "text": [
      "C:\\Users\\bsc-default\\Anaconda2\\lib\\site-packages\\sklearn\\svm\\base.py:85: DeprecationWarning: gamma=0.0 has been deprecated in favor of gamma='auto' as of 0.17. Backward compatibility for gamma=0.0 will be removed in 0.18\n",
      "  DeprecationWarning)\n"
     ]
    },
    {
     "name": "stdout",
     "output_type": "stream",
     "text": [
      "Precision for the ADR class .. 0.494382022472\n",
      "Recall for the ADR class .. 0.494382022472\n",
      "ADR F-score .. 0.494382022472\n",
      "c: 120, w: 4\n"
     ]
    },
    {
     "name": "stderr",
     "output_type": "stream",
     "text": [
      "C:\\Users\\bsc-default\\Anaconda2\\lib\\site-packages\\sklearn\\svm\\base.py:85: DeprecationWarning: gamma=0.0 has been deprecated in favor of gamma='auto' as of 0.17. Backward compatibility for gamma=0.0 will be removed in 0.18\n",
      "  DeprecationWarning)\n"
     ]
    },
    {
     "name": "stdout",
     "output_type": "stream",
     "text": [
      "Precision for the ADR class .. 0.457446808511\n",
      "Recall for the ADR class .. 0.483146067416\n",
      "ADR F-score .. 0.469945355191\n",
      "c: 125, w: 1\n"
     ]
    },
    {
     "name": "stderr",
     "output_type": "stream",
     "text": [
      "C:\\Users\\bsc-default\\Anaconda2\\lib\\site-packages\\sklearn\\svm\\base.py:85: DeprecationWarning: gamma=0.0 has been deprecated in favor of gamma='auto' as of 0.17. Backward compatibility for gamma=0.0 will be removed in 0.18\n",
      "  DeprecationWarning)\n"
     ]
    },
    {
     "name": "stdout",
     "output_type": "stream",
     "text": [
      "Precision for the ADR class .. 0.586206896552\n",
      "Recall for the ADR class .. 0.38202247191\n",
      "ADR F-score .. 0.462585034014\n",
      "c: 125, w: 2\n"
     ]
    },
    {
     "name": "stderr",
     "output_type": "stream",
     "text": [
      "C:\\Users\\bsc-default\\Anaconda2\\lib\\site-packages\\sklearn\\svm\\base.py:85: DeprecationWarning: gamma=0.0 has been deprecated in favor of gamma='auto' as of 0.17. Backward compatibility for gamma=0.0 will be removed in 0.18\n",
      "  DeprecationWarning)\n"
     ]
    },
    {
     "name": "stdout",
     "output_type": "stream",
     "text": [
      "Precision for the ADR class .. 0.532467532468\n",
      "Recall for the ADR class .. 0.460674157303\n",
      "ADR F-score .. 0.493975903614\n",
      "c: 125, w: 3\n"
     ]
    },
    {
     "name": "stderr",
     "output_type": "stream",
     "text": [
      "C:\\Users\\bsc-default\\Anaconda2\\lib\\site-packages\\sklearn\\svm\\base.py:85: DeprecationWarning: gamma=0.0 has been deprecated in favor of gamma='auto' as of 0.17. Backward compatibility for gamma=0.0 will be removed in 0.18\n",
      "  DeprecationWarning)\n"
     ]
    },
    {
     "name": "stdout",
     "output_type": "stream",
     "text": [
      "Precision for the ADR class .. 0.494382022472\n",
      "Recall for the ADR class .. 0.494382022472\n",
      "ADR F-score .. 0.494382022472\n",
      "c: 125, w: 4\n"
     ]
    },
    {
     "name": "stderr",
     "output_type": "stream",
     "text": [
      "C:\\Users\\bsc-default\\Anaconda2\\lib\\site-packages\\sklearn\\svm\\base.py:85: DeprecationWarning: gamma=0.0 has been deprecated in favor of gamma='auto' as of 0.17. Backward compatibility for gamma=0.0 will be removed in 0.18\n",
      "  DeprecationWarning)\n"
     ]
    },
    {
     "name": "stdout",
     "output_type": "stream",
     "text": [
      "Precision for the ADR class .. 0.457446808511\n",
      "Recall for the ADR class .. 0.483146067416\n",
      "ADR F-score .. 0.469945355191\n",
      "c: 130, w: 1\n"
     ]
    },
    {
     "name": "stderr",
     "output_type": "stream",
     "text": [
      "C:\\Users\\bsc-default\\Anaconda2\\lib\\site-packages\\sklearn\\svm\\base.py:85: DeprecationWarning: gamma=0.0 has been deprecated in favor of gamma='auto' as of 0.17. Backward compatibility for gamma=0.0 will be removed in 0.18\n",
      "  DeprecationWarning)\n"
     ]
    },
    {
     "name": "stdout",
     "output_type": "stream",
     "text": [
      "Precision for the ADR class .. 0.593220338983\n",
      "Recall for the ADR class .. 0.393258426966\n",
      "ADR F-score .. 0.472972972973\n",
      "c: 130, w: 2\n"
     ]
    },
    {
     "name": "stderr",
     "output_type": "stream",
     "text": [
      "C:\\Users\\bsc-default\\Anaconda2\\lib\\site-packages\\sklearn\\svm\\base.py:85: DeprecationWarning: gamma=0.0 has been deprecated in favor of gamma='auto' as of 0.17. Backward compatibility for gamma=0.0 will be removed in 0.18\n",
      "  DeprecationWarning)\n"
     ]
    },
    {
     "name": "stdout",
     "output_type": "stream",
     "text": [
      "Precision for the ADR class .. 0.519480519481\n",
      "Recall for the ADR class .. 0.449438202247\n",
      "ADR F-score .. 0.481927710843\n",
      "c: 130, w: 3\n"
     ]
    },
    {
     "name": "stderr",
     "output_type": "stream",
     "text": [
      "C:\\Users\\bsc-default\\Anaconda2\\lib\\site-packages\\sklearn\\svm\\base.py:85: DeprecationWarning: gamma=0.0 has been deprecated in favor of gamma='auto' as of 0.17. Backward compatibility for gamma=0.0 will be removed in 0.18\n",
      "  DeprecationWarning)\n"
     ]
    },
    {
     "name": "stdout",
     "output_type": "stream",
     "text": [
      "Precision for the ADR class .. 0.5\n",
      "Recall for the ADR class .. 0.494382022472\n",
      "ADR F-score .. 0.497175141243\n",
      "c: 130, w: 4\n"
     ]
    },
    {
     "name": "stderr",
     "output_type": "stream",
     "text": [
      "C:\\Users\\bsc-default\\Anaconda2\\lib\\site-packages\\sklearn\\svm\\base.py:85: DeprecationWarning: gamma=0.0 has been deprecated in favor of gamma='auto' as of 0.17. Backward compatibility for gamma=0.0 will be removed in 0.18\n",
      "  DeprecationWarning)\n"
     ]
    },
    {
     "name": "stdout",
     "output_type": "stream",
     "text": [
      "Precision for the ADR class .. 0.457446808511\n",
      "Recall for the ADR class .. 0.483146067416\n",
      "ADR F-score .. 0.469945355191\n",
      "c: 135, w: 1\n"
     ]
    },
    {
     "name": "stderr",
     "output_type": "stream",
     "text": [
      "C:\\Users\\bsc-default\\Anaconda2\\lib\\site-packages\\sklearn\\svm\\base.py:85: DeprecationWarning: gamma=0.0 has been deprecated in favor of gamma='auto' as of 0.17. Backward compatibility for gamma=0.0 will be removed in 0.18\n",
      "  DeprecationWarning)\n"
     ]
    },
    {
     "name": "stdout",
     "output_type": "stream",
     "text": [
      "Precision for the ADR class .. 0.593220338983\n",
      "Recall for the ADR class .. 0.393258426966\n",
      "ADR F-score .. 0.472972972973\n",
      "c: 135, w: 2\n"
     ]
    },
    {
     "name": "stderr",
     "output_type": "stream",
     "text": [
      "C:\\Users\\bsc-default\\Anaconda2\\lib\\site-packages\\sklearn\\svm\\base.py:85: DeprecationWarning: gamma=0.0 has been deprecated in favor of gamma='auto' as of 0.17. Backward compatibility for gamma=0.0 will be removed in 0.18\n",
      "  DeprecationWarning)\n"
     ]
    },
    {
     "name": "stdout",
     "output_type": "stream",
     "text": [
      "Precision for the ADR class .. 0.506329113924\n",
      "Recall for the ADR class .. 0.449438202247\n",
      "ADR F-score .. 0.47619047619\n",
      "c: 135, w: 3\n"
     ]
    },
    {
     "name": "stderr",
     "output_type": "stream",
     "text": [
      "C:\\Users\\bsc-default\\Anaconda2\\lib\\site-packages\\sklearn\\svm\\base.py:85: DeprecationWarning: gamma=0.0 has been deprecated in favor of gamma='auto' as of 0.17. Backward compatibility for gamma=0.0 will be removed in 0.18\n",
      "  DeprecationWarning)\n"
     ]
    },
    {
     "name": "stdout",
     "output_type": "stream",
     "text": [
      "Precision for the ADR class .. 0.494382022472\n",
      "Recall for the ADR class .. 0.494382022472\n",
      "ADR F-score .. 0.494382022472\n",
      "c: 135, w: 4\n"
     ]
    },
    {
     "name": "stderr",
     "output_type": "stream",
     "text": [
      "C:\\Users\\bsc-default\\Anaconda2\\lib\\site-packages\\sklearn\\svm\\base.py:85: DeprecationWarning: gamma=0.0 has been deprecated in favor of gamma='auto' as of 0.17. Backward compatibility for gamma=0.0 will be removed in 0.18\n",
      "  DeprecationWarning)\n"
     ]
    },
    {
     "name": "stdout",
     "output_type": "stream",
     "text": [
      "Precision for the ADR class .. 0.462365591398\n",
      "Recall for the ADR class .. 0.483146067416\n",
      "ADR F-score .. 0.472527472527\n",
      "c: 140, w: 1\n"
     ]
    },
    {
     "name": "stderr",
     "output_type": "stream",
     "text": [
      "C:\\Users\\bsc-default\\Anaconda2\\lib\\site-packages\\sklearn\\svm\\base.py:85: DeprecationWarning: gamma=0.0 has been deprecated in favor of gamma='auto' as of 0.17. Backward compatibility for gamma=0.0 will be removed in 0.18\n",
      "  DeprecationWarning)\n"
     ]
    },
    {
     "name": "stdout",
     "output_type": "stream",
     "text": [
      "Precision for the ADR class .. 0.593220338983\n",
      "Recall for the ADR class .. 0.393258426966\n",
      "ADR F-score .. 0.472972972973\n",
      "c: 140, w: 2\n"
     ]
    },
    {
     "name": "stderr",
     "output_type": "stream",
     "text": [
      "C:\\Users\\bsc-default\\Anaconda2\\lib\\site-packages\\sklearn\\svm\\base.py:85: DeprecationWarning: gamma=0.0 has been deprecated in favor of gamma='auto' as of 0.17. Backward compatibility for gamma=0.0 will be removed in 0.18\n",
      "  DeprecationWarning)\n"
     ]
    },
    {
     "name": "stdout",
     "output_type": "stream",
     "text": [
      "Precision for the ADR class .. 0.506329113924\n",
      "Recall for the ADR class .. 0.449438202247\n",
      "ADR F-score .. 0.47619047619\n",
      "c: 140, w: 3\n"
     ]
    },
    {
     "name": "stderr",
     "output_type": "stream",
     "text": [
      "C:\\Users\\bsc-default\\Anaconda2\\lib\\site-packages\\sklearn\\svm\\base.py:85: DeprecationWarning: gamma=0.0 has been deprecated in favor of gamma='auto' as of 0.17. Backward compatibility for gamma=0.0 will be removed in 0.18\n",
      "  DeprecationWarning)\n"
     ]
    },
    {
     "name": "stdout",
     "output_type": "stream",
     "text": [
      "Precision for the ADR class .. 0.477777777778\n",
      "Recall for the ADR class .. 0.483146067416\n",
      "ADR F-score .. 0.480446927374\n",
      "c: 140, w: 4\n"
     ]
    },
    {
     "name": "stderr",
     "output_type": "stream",
     "text": [
      "C:\\Users\\bsc-default\\Anaconda2\\lib\\site-packages\\sklearn\\svm\\base.py:85: DeprecationWarning: gamma=0.0 has been deprecated in favor of gamma='auto' as of 0.17. Backward compatibility for gamma=0.0 will be removed in 0.18\n",
      "  DeprecationWarning)\n"
     ]
    },
    {
     "name": "stdout",
     "output_type": "stream",
     "text": [
      "Precision for the ADR class .. 0.467391304348\n",
      "Recall for the ADR class .. 0.483146067416\n",
      "ADR F-score .. 0.475138121547\n",
      "c: 145, w: 1\n"
     ]
    },
    {
     "name": "stderr",
     "output_type": "stream",
     "text": [
      "C:\\Users\\bsc-default\\Anaconda2\\lib\\site-packages\\sklearn\\svm\\base.py:85: DeprecationWarning: gamma=0.0 has been deprecated in favor of gamma='auto' as of 0.17. Backward compatibility for gamma=0.0 will be removed in 0.18\n",
      "  DeprecationWarning)\n"
     ]
    },
    {
     "name": "stdout",
     "output_type": "stream",
     "text": [
      "Precision for the ADR class .. 0.6\n",
      "Recall for the ADR class .. 0.404494382022\n",
      "ADR F-score .. 0.48322147651\n",
      "c: 145, w: 2\n"
     ]
    },
    {
     "name": "stderr",
     "output_type": "stream",
     "text": [
      "C:\\Users\\bsc-default\\Anaconda2\\lib\\site-packages\\sklearn\\svm\\base.py:85: DeprecationWarning: gamma=0.0 has been deprecated in favor of gamma='auto' as of 0.17. Backward compatibility for gamma=0.0 will be removed in 0.18\n",
      "  DeprecationWarning)\n"
     ]
    },
    {
     "name": "stdout",
     "output_type": "stream",
     "text": [
      "Precision for the ADR class .. 0.512820512821\n",
      "Recall for the ADR class .. 0.449438202247\n",
      "ADR F-score .. 0.479041916168\n",
      "c: 145, w: 3\n"
     ]
    },
    {
     "name": "stderr",
     "output_type": "stream",
     "text": [
      "C:\\Users\\bsc-default\\Anaconda2\\lib\\site-packages\\sklearn\\svm\\base.py:85: DeprecationWarning: gamma=0.0 has been deprecated in favor of gamma='auto' as of 0.17. Backward compatibility for gamma=0.0 will be removed in 0.18\n",
      "  DeprecationWarning)\n"
     ]
    },
    {
     "name": "stdout",
     "output_type": "stream",
     "text": [
      "Precision for the ADR class .. 0.466666666667\n",
      "Recall for the ADR class .. 0.47191011236\n",
      "ADR F-score .. 0.469273743017\n",
      "c: 145, w: 4\n"
     ]
    },
    {
     "name": "stderr",
     "output_type": "stream",
     "text": [
      "C:\\Users\\bsc-default\\Anaconda2\\lib\\site-packages\\sklearn\\svm\\base.py:85: DeprecationWarning: gamma=0.0 has been deprecated in favor of gamma='auto' as of 0.17. Backward compatibility for gamma=0.0 will be removed in 0.18\n",
      "  DeprecationWarning)\n"
     ]
    },
    {
     "name": "stdout",
     "output_type": "stream",
     "text": [
      "Precision for the ADR class .. 0.466666666667\n",
      "Recall for the ADR class .. 0.47191011236\n",
      "ADR F-score .. 0.469273743017\n",
      "c: 150, w: 1\n"
     ]
    },
    {
     "name": "stderr",
     "output_type": "stream",
     "text": [
      "C:\\Users\\bsc-default\\Anaconda2\\lib\\site-packages\\sklearn\\svm\\base.py:85: DeprecationWarning: gamma=0.0 has been deprecated in favor of gamma='auto' as of 0.17. Backward compatibility for gamma=0.0 will be removed in 0.18\n",
      "  DeprecationWarning)\n"
     ]
    },
    {
     "name": "stdout",
     "output_type": "stream",
     "text": [
      "Precision for the ADR class .. 0.590163934426\n",
      "Recall for the ADR class .. 0.404494382022\n",
      "ADR F-score .. 0.48\n",
      "c: 150, w: 2\n"
     ]
    },
    {
     "name": "stderr",
     "output_type": "stream",
     "text": [
      "C:\\Users\\bsc-default\\Anaconda2\\lib\\site-packages\\sklearn\\svm\\base.py:85: DeprecationWarning: gamma=0.0 has been deprecated in favor of gamma='auto' as of 0.17. Backward compatibility for gamma=0.0 will be removed in 0.18\n",
      "  DeprecationWarning)\n"
     ]
    },
    {
     "name": "stdout",
     "output_type": "stream",
     "text": [
      "Precision for the ADR class .. 0.512820512821\n",
      "Recall for the ADR class .. 0.449438202247\n",
      "ADR F-score .. 0.479041916168\n",
      "c: 150, w: 3\n"
     ]
    },
    {
     "name": "stderr",
     "output_type": "stream",
     "text": [
      "C:\\Users\\bsc-default\\Anaconda2\\lib\\site-packages\\sklearn\\svm\\base.py:85: DeprecationWarning: gamma=0.0 has been deprecated in favor of gamma='auto' as of 0.17. Backward compatibility for gamma=0.0 will be removed in 0.18\n",
      "  DeprecationWarning)\n"
     ]
    },
    {
     "name": "stdout",
     "output_type": "stream",
     "text": [
      "Precision for the ADR class .. 0.461538461538\n",
      "Recall for the ADR class .. 0.47191011236\n",
      "ADR F-score .. 0.466666666667\n",
      "c: 150, w: 4\n"
     ]
    },
    {
     "name": "stderr",
     "output_type": "stream",
     "text": [
      "C:\\Users\\bsc-default\\Anaconda2\\lib\\site-packages\\sklearn\\svm\\base.py:85: DeprecationWarning: gamma=0.0 has been deprecated in favor of gamma='auto' as of 0.17. Backward compatibility for gamma=0.0 will be removed in 0.18\n",
      "  DeprecationWarning)\n"
     ]
    },
    {
     "name": "stdout",
     "output_type": "stream",
     "text": [
      "Precision for the ADR class .. 0.462365591398\n",
      "Recall for the ADR class .. 0.483146067416\n",
      "ADR F-score .. 0.472527472527\n",
      "c: 155, w: 1\n"
     ]
    },
    {
     "name": "stderr",
     "output_type": "stream",
     "text": [
      "C:\\Users\\bsc-default\\Anaconda2\\lib\\site-packages\\sklearn\\svm\\base.py:85: DeprecationWarning: gamma=0.0 has been deprecated in favor of gamma='auto' as of 0.17. Backward compatibility for gamma=0.0 will be removed in 0.18\n",
      "  DeprecationWarning)\n"
     ]
    },
    {
     "name": "stdout",
     "output_type": "stream",
     "text": [
      "Precision for the ADR class .. 0.590163934426\n",
      "Recall for the ADR class .. 0.404494382022\n",
      "ADR F-score .. 0.48\n",
      "c: 155, w: 2\n"
     ]
    },
    {
     "name": "stderr",
     "output_type": "stream",
     "text": [
      "C:\\Users\\bsc-default\\Anaconda2\\lib\\site-packages\\sklearn\\svm\\base.py:85: DeprecationWarning: gamma=0.0 has been deprecated in favor of gamma='auto' as of 0.17. Backward compatibility for gamma=0.0 will be removed in 0.18\n",
      "  DeprecationWarning)\n"
     ]
    },
    {
     "name": "stdout",
     "output_type": "stream",
     "text": [
      "Precision for the ADR class .. 0.506329113924\n",
      "Recall for the ADR class .. 0.449438202247\n",
      "ADR F-score .. 0.47619047619\n",
      "c: 155, w: 3\n"
     ]
    },
    {
     "name": "stderr",
     "output_type": "stream",
     "text": [
      "C:\\Users\\bsc-default\\Anaconda2\\lib\\site-packages\\sklearn\\svm\\base.py:85: DeprecationWarning: gamma=0.0 has been deprecated in favor of gamma='auto' as of 0.17. Backward compatibility for gamma=0.0 will be removed in 0.18\n",
      "  DeprecationWarning)\n"
     ]
    },
    {
     "name": "stdout",
     "output_type": "stream",
     "text": [
      "Precision for the ADR class .. 0.460674157303\n",
      "Recall for the ADR class .. 0.460674157303\n",
      "ADR F-score .. 0.460674157303\n",
      "c: 155, w: 4\n"
     ]
    },
    {
     "name": "stderr",
     "output_type": "stream",
     "text": [
      "C:\\Users\\bsc-default\\Anaconda2\\lib\\site-packages\\sklearn\\svm\\base.py:85: DeprecationWarning: gamma=0.0 has been deprecated in favor of gamma='auto' as of 0.17. Backward compatibility for gamma=0.0 will be removed in 0.18\n",
      "  DeprecationWarning)\n"
     ]
    },
    {
     "name": "stdout",
     "output_type": "stream",
     "text": [
      "Precision for the ADR class .. 0.457446808511\n",
      "Recall for the ADR class .. 0.483146067416\n",
      "ADR F-score .. 0.469945355191\n",
      "c: 160, w: 1\n"
     ]
    },
    {
     "name": "stderr",
     "output_type": "stream",
     "text": [
      "C:\\Users\\bsc-default\\Anaconda2\\lib\\site-packages\\sklearn\\svm\\base.py:85: DeprecationWarning: gamma=0.0 has been deprecated in favor of gamma='auto' as of 0.17. Backward compatibility for gamma=0.0 will be removed in 0.18\n",
      "  DeprecationWarning)\n"
     ]
    },
    {
     "name": "stdout",
     "output_type": "stream",
     "text": [
      "Precision for the ADR class .. 0.58064516129\n",
      "Recall for the ADR class .. 0.404494382022\n",
      "ADR F-score .. 0.476821192053\n",
      "c: 160, w: 2\n"
     ]
    },
    {
     "name": "stderr",
     "output_type": "stream",
     "text": [
      "C:\\Users\\bsc-default\\Anaconda2\\lib\\site-packages\\sklearn\\svm\\base.py:85: DeprecationWarning: gamma=0.0 has been deprecated in favor of gamma='auto' as of 0.17. Backward compatibility for gamma=0.0 will be removed in 0.18\n",
      "  DeprecationWarning)\n"
     ]
    },
    {
     "name": "stdout",
     "output_type": "stream",
     "text": [
      "Precision for the ADR class .. 0.5\n",
      "Recall for the ADR class .. 0.449438202247\n",
      "ADR F-score .. 0.473372781065\n",
      "c: 160, w: 3\n"
     ]
    },
    {
     "name": "stderr",
     "output_type": "stream",
     "text": [
      "C:\\Users\\bsc-default\\Anaconda2\\lib\\site-packages\\sklearn\\svm\\base.py:85: DeprecationWarning: gamma=0.0 has been deprecated in favor of gamma='auto' as of 0.17. Backward compatibility for gamma=0.0 will be removed in 0.18\n",
      "  DeprecationWarning)\n"
     ]
    },
    {
     "name": "stdout",
     "output_type": "stream",
     "text": [
      "Precision for the ADR class .. 0.460674157303\n",
      "Recall for the ADR class .. 0.460674157303\n",
      "ADR F-score .. 0.460674157303\n",
      "c: 160, w: 4\n"
     ]
    },
    {
     "name": "stderr",
     "output_type": "stream",
     "text": [
      "C:\\Users\\bsc-default\\Anaconda2\\lib\\site-packages\\sklearn\\svm\\base.py:85: DeprecationWarning: gamma=0.0 has been deprecated in favor of gamma='auto' as of 0.17. Backward compatibility for gamma=0.0 will be removed in 0.18\n",
      "  DeprecationWarning)\n"
     ]
    },
    {
     "name": "stdout",
     "output_type": "stream",
     "text": [
      "Precision for the ADR class .. 0.462365591398\n",
      "Recall for the ADR class .. 0.483146067416\n",
      "ADR F-score .. 0.472527472527\n"
     ]
    }
   ],
   "source": [
    "f_scores = {}\n",
    "c = 100\n",
    "w = 3\n",
    "for c in [100,110,115,120,125,130,135,140,145,150,155,160]:\n",
    "    for w in [1,2,3,4]:\n",
    "        print 'c: %s, w: %s' %(c,w)\n",
    "        svm_classifier = classify(c,w)"
   ]
  },
  {
   "cell_type": "markdown",
   "metadata": {},
   "source": [
    "c: 100, w: 3\n",
    "\n",
    "Precision for the ADR class .. 0.517647058824\n",
    "Recall for the ADR class .. 0.494382022472\n",
    "ADR F-score .. 0.505747126437\n",
    "\n"
   ]
  },
  {
   "cell_type": "code",
   "execution_count": 32,
   "metadata": {
    "collapsed": false
   },
   "outputs": [
    {
     "name": "stderr",
     "output_type": "stream",
     "text": [
      "C:\\Users\\bsc-default\\Anaconda2\\lib\\site-packages\\sklearn\\svm\\base.py:85: DeprecationWarning: gamma=0.0 has been deprecated in favor of gamma='auto' as of 0.17. Backward compatibility for gamma=0.0 will be removed in 0.18\n",
      "  DeprecationWarning)\n"
     ]
    },
    {
     "name": "stdout",
     "output_type": "stream",
     "text": [
      "Precision for the ADR class .. 0.517647058824\n",
      "Recall for the ADR class .. 0.494382022472\n",
      "ADR F-score .. 0.505747126437\n",
      "roc_auc 0.852958295374\n"
     ]
    }
   ],
   "source": [
    "c = 100\n",
    "w = 3\n",
    "svm_classifier = classify(c,w)\n",
    "\n"
   ]
  },
  {
   "cell_type": "code",
   "execution_count": 33,
   "metadata": {
    "collapsed": true
   },
   "outputs": [],
   "source": [
    "output = open('../adr_classifier.pkl', 'wb')\n",
    "pickle.dump(svm_classifier, output)\n",
    "output.close()"
   ]
  },
  {
   "cell_type": "markdown",
   "metadata": {},
   "source": [
    "c = 100\n",
    "w = 3\n",
    "Precision for the ADR class .. 0.517647058824\n",
    "Recall for the ADR class .. 0.494382022472\n",
    "ADR F-score .. 0.505747126437\n",
    "roc_auc 0.852958295374"
   ]
  }
 ],
 "metadata": {
  "anaconda-cloud": {},
  "kernelspec": {
   "display_name": "Python [Root]",
   "language": "python",
   "name": "Python [Root]"
  },
  "language_info": {
   "codemirror_mode": {
    "name": "ipython",
    "version": 2
   },
   "file_extension": ".py",
   "mimetype": "text/x-python",
   "name": "python",
   "nbconvert_exporter": "python",
   "pygments_lexer": "ipython2",
   "version": "2.7.12"
  }
 },
 "nbformat": 4,
 "nbformat_minor": 0
}

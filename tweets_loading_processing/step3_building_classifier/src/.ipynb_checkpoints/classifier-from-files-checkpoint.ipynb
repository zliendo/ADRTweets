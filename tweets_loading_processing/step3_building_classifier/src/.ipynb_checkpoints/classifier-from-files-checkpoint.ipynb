{
 "cells": [
  {
   "cell_type": "markdown",
   "metadata": {},
   "source": [
    "This code is based on the classifier provided by asarker\n"
   ]
  },
  {
   "cell_type": "code",
   "execution_count": 6,
   "metadata": {
    "collapsed": true
   },
   "outputs": [],
   "source": [
    "import csv\n",
    "from random import shuffle\n",
    "import numpy as np\n",
    "\n",
    "from sklearn.linear_model import LogisticRegression\n",
    "#from sklearn.feature_extraction.text import *\n",
    "from sklearn import metrics"
   ]
  },
  {
   "cell_type": "code",
   "execution_count": 5,
   "metadata": {
    "collapsed": true
   },
   "outputs": [],
   "source": [
    "import string,nltk,codecs\n",
    "from nltk.stem.porter import *\n",
    "from sklearn.feature_extraction.text import CountVectorizer,TfidfVectorizer\n",
    "from sklearn import preprocessing\n",
    "from sklearn.metrics import accuracy_score\n",
    "import numpy as np\n",
    "from nltk.corpus import stopwords\n",
    "from sklearn import svm\n",
    "from collections import defaultdict"
   ]
  },
  {
   "cell_type": "code",
   "execution_count": 2,
   "metadata": {
    "collapsed": false
   },
   "outputs": [],
   "source": [
    "import pickle\n",
    "#output = open('training_set.pkl', 'wb')\n",
    "#pickle.dump(training_set, output)\n",
    "#output.close()\n",
    "\n",
    "file = open('training_set.pkl', 'rb')\n",
    "training_set = pickle.load(file)\n",
    "file.close()"
   ]
  },
  {
   "cell_type": "code",
   "execution_count": 3,
   "metadata": {
    "collapsed": true
   },
   "outputs": [],
   "source": [
    "#output = open('test_set.pkl', 'wb')\n",
    "#pickle.dump(test_set, output)\n",
    "#output.close()\n",
    "file = open('test_set.pkl', 'rb')\n",
    "test_set = pickle.load(file)\n",
    "file.close()\n"
   ]
  },
  {
   "cell_type": "code",
   "execution_count": 11,
   "metadata": {
    "collapsed": true
   },
   "outputs": [],
   "source": [
    "scaler1 = preprocessing.StandardScaler().fit( training_set['structuralfeatures'])  \n",
    "train_structural_features = scaler1.transform( training_set['structuralfeatures'])"
   ]
  },
  {
   "cell_type": "code",
   "execution_count": 7,
   "metadata": {
    "collapsed": false
   },
   "outputs": [],
   "source": [
    "# Initialize the vectorizers\n",
    "vectorizer = TfidfVectorizer(min_df = 35,ngram_range=(1,3))\n",
    "#vectorizer = CountVectorizer(ngram_range=(1,3), analyzer = \"word\", tokenizer = None, preprocessor = None, max_features = 5000)\n",
    "synsetvectorizer = CountVectorizer(ngram_range=(1,1),analyzer=\"word\",tokenizer=None,preprocessor=None,max_features = 2000)\n",
    "clustervectorizer = CountVectorizer(ngram_range=(1,1),analyzer=\"word\",tokenizer=None,preprocessor=None,max_features = 1000)\n",
    "topicvectorizer = CountVectorizer(ngram_range=(1,1),analyzer=\"word\",tokenizer=None,preprocessor=None,max_features=500)"
   ]
  },
  {
   "cell_type": "code",
   "execution_count": 12,
   "metadata": {
    "collapsed": false
   },
   "outputs": [],
   "source": [
    "'''\n",
    "    Generate the data vectors\n",
    "'''\n",
    "trained_data = vectorizer.fit_transform(training_set['text']).toarray()\n",
    "train_data_synset_vector = synsetvectorizer.fit_transform(training_set['synsets']).toarray()\n",
    "train_data_cluster_vector = clustervectorizer.fit_transform(training_set['clusters']).toarray()\n",
    "train_data_topic_vector = topicvectorizer.fit_transform(training_set['topictexts']).toarray()\n",
    "    \n",
    "'''\n",
    "    Concatenate the various feature arrays\n",
    "'''\n",
    "trained_data = np.concatenate((trained_data,train_data_synset_vector),axis=1)\n",
    "trained_data = np.concatenate((trained_data,training_set['sentiments']),axis=1)\n",
    "trained_data = np.concatenate((trained_data,train_data_cluster_vector),axis=1)\n",
    "trained_data = np.concatenate((trained_data,train_structural_features),axis=1)\n",
    "trained_data = np.concatenate((trained_data,training_set['adrlexicon']),axis=1)\n",
    "trained_data = np.concatenate((trained_data,training_set['topics']),axis=1)\n",
    "trained_data = np.concatenate((trained_data,train_data_topic_vector),axis=1)\n",
    "trained_data = np.concatenate((trained_data,training_set['goodbad']),axis=1)"
   ]
  },
  {
   "cell_type": "code",
   "execution_count": 13,
   "metadata": {
    "collapsed": false
   },
   "outputs": [],
   "source": [
    "\n",
    "'''\n",
    "        Fit the test data \n",
    "'''\n",
    "test_data = vectorizer.transform(test_set['text']).toarray()\n",
    "test_data_synset_vectors = synsetvectorizer.transform(test_set['synsets']).toarray()\n",
    "test_data_cluster_vectors = clustervectorizer.transform(test_set['clusters']).toarray()\n",
    "test_data_topic_vectors = topicvectorizer.transform(test_set['topictexts']).toarray()\n",
    "    \n",
    "    \n",
    "    \n",
    "'''\n",
    "        Concatenate the test feature arrays\n",
    "'''\n",
    "test_data = np.concatenate((test_data,test_data_synset_vectors),axis=1)\n",
    "test_data = np.concatenate((test_data,test_set['sentiments']),axis=1)\n",
    "test_data = np.concatenate((test_data,test_data_cluster_vectors),axis=1)\n",
    "test_data = np.concatenate((test_data,test_structural_features),axis=1)\n",
    "test_data = np.concatenate((test_data,test_set['adrlexicon']),axis=1)\n",
    "test_data = np.concatenate((test_data,test_set['topics']),axis=1)\n",
    "test_data = np.concatenate((test_data,test_data_topic_vectors),axis=1)\n",
    "test_data = np.concatenate((test_data,test_set['goodbad']),axis=1)"
   ]
  },
  {
   "cell_type": "code",
   "execution_count": 14,
   "metadata": {
    "collapsed": true
   },
   "outputs": [],
   "source": [
    "def calculateScores(predicted_labels,test_gold_classes):\n",
    "    try:\n",
    "        tp=0.0\n",
    "        tn=0.0\n",
    "        fn=0.0\n",
    "        fp=0.0\n",
    "        #print result\n",
    "        #print test_gold_classes\n",
    "        for pred,gold in zip(predicted_labels,test_gold_classes):\n",
    "            if pred == '1' and gold == '1':\n",
    "                tp+=1\n",
    "            if pred == '1' and gold == '0':\n",
    "                fp+=1\n",
    "            if pred == '0' and gold == '0':\n",
    "                tn +=1\n",
    "            if pred == '0' and gold == '1':\n",
    "                fn+=1\n",
    "        adr_prec = tp/(tp+fp)\n",
    "        adr_rec = tp/(tp+fn)\n",
    "        fscore = (2*adr_prec*adr_rec)/(adr_prec + adr_rec)\n",
    "        print 'Precision for the ADR class .. ' + str(adr_prec)\n",
    "        print 'Recall for the ADR class .. ' + str(adr_rec)\n",
    "        print 'ADR F-score .. ' + str(fscore)\n",
    "    except ZeroDivisionError:\n",
    "        print 'There was a zerodivisionerror'\n",
    "        print 'Precision for the ADR class .. ' + str(0)\n",
    "        print 'Recall for the ADR class .. ' + str(0)\n",
    "        print 'ADR F-score .. ' + str(0)\n"
   ]
  },
  {
   "cell_type": "code",
   "execution_count": 15,
   "metadata": {
    "collapsed": false
   },
   "outputs": [],
   "source": [
    "def classify(c, w):\n",
    "\n",
    "    # training the svms\n",
    "    svm_classifier = svm.SVC(C=c, cache_size=200, class_weight={'1':w,'0':1}, coef0=0.0, degree=3, \n",
    "                             gamma=0.0, kernel='rbf', max_iter=-1, probability=True, random_state=None,\n",
    "                             shrinking=True, tol=0.001, verbose=False)\n",
    "    \n",
    "    svm_classifier = svm_classifier.fit(trained_data, training_set['class'])\n",
    "    \n",
    "    # making the predictions    \n",
    "    result = svm_classifier.predict(test_data)\n",
    "    test_gold_classes = test_set['class']\n",
    "    \n",
    "    #print accuracy_score(test_data['class'],result)\n",
    "    #compute the ADR F-score\n",
    "    calculateScores(result,test_gold_classes)\n"
   ]
  },
  {
   "cell_type": "code",
   "execution_count": 16,
   "metadata": {
    "collapsed": false
   },
   "outputs": [
    {
     "name": "stderr",
     "output_type": "stream",
     "text": [
      "C:\\Users\\bsc-default\\Anaconda2\\lib\\site-packages\\sklearn\\svm\\base.py:85: DeprecationWarning: gamma=0.0 has been deprecated in favor of gamma='auto' as of 0.17. Backward compatibility for gamma=0.0 will be removed in 0.18\n",
      "  DeprecationWarning)\n"
     ]
    },
    {
     "name": "stdout",
     "output_type": "stream",
     "text": [
      "Precision for the ADR class .. 0.440677966102\n",
      "Recall for the ADR class .. 0.525252525253\n",
      "ADR F-score .. 0.479262672811\n"
     ]
    }
   ],
   "source": [
    "f_scores = {}\n",
    "c = 140\n",
    "w = 3\n",
    "#for c in [100,110,115,120,125,130,135,140,145,150,155,160]:\n",
    "    #for w in [1,2,3,4]:\n",
    "classify(c,w)"
   ]
  },
  {
   "cell_type": "code",
   "execution_count": null,
   "metadata": {
    "collapsed": true
   },
   "outputs": [],
   "source": []
  }
 ],
 "metadata": {
  "anaconda-cloud": {},
  "kernelspec": {
   "display_name": "Python [Root]",
   "language": "python",
   "name": "Python [Root]"
  },
  "language_info": {
   "codemirror_mode": {
    "name": "ipython",
    "version": 2
   },
   "file_extension": ".py",
   "mimetype": "text/x-python",
   "name": "python",
   "nbconvert_exporter": "python",
   "pygments_lexer": "ipython2",
   "version": "2.7.12"
  }
 },
 "nbformat": 4,
 "nbformat_minor": 0
}

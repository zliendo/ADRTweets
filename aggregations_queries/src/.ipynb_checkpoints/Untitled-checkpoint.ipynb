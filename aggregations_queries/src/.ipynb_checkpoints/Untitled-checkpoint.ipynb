{
 "cells": [
  {
   "cell_type": "code",
   "execution_count": 13,
   "metadata": {
    "collapsed": false
   },
   "outputs": [],
   "source": [
    "import psycopg2\n",
    "import json\n",
    "\t\t\n",
    "# read configuration options\n",
    "# ------------------------------\n",
    "with open('../../tweets_loading_processing/config.json') as config_file:    \n",
    "    config_data = json.load(config_file)\n",
    "    \n",
    "dbdata = config_data[\"dbdata\"].encode('utf8')\n",
    "\n",
    "\n",
    "\n",
    "conn = psycopg2.connect(dbdata)\n",
    "\n",
    "cur = conn.cursor()\n",
    "\n"
   ]
  },
  {
   "cell_type": "code",
   "execution_count": 9,
   "metadata": {
    "collapsed": false
   },
   "outputs": [],
   "source": [
    "# create tweets_medications_search table if it does not exist\n",
    "#------------------------------------------------------------\n",
    "\n",
    "cur.execute(\"\"\"CREATE TABLE  IF NOT EXISTS tweets_medications_search \n",
    "                (pk           bigserial PRIMARY KEY ,\n",
    "\t\tmedication_name text NOT NULL);\"\"\")\n",
    "\n",
    "cur.execute(\"DELETE from tweets_medications_search;\")\n",
    "\n",
    "cur.execute(\"\"\" INSERT INTO tweets_medications_search ( medication_name) \n",
    "select medication_name from tweets_medications group by medication_name;\"\"\")    \n",
    "\n",
    "cur.execute(\"CREATE  INDEX  IF NOT EXISTS medication_name_search_idx ON tweets_medications_search(medication_name);\")    \n",
    "conn.commit()\n",
    "\n",
    "\n"
   ]
  },
  {
   "cell_type": "code",
   "execution_count": 14,
   "metadata": {
    "collapsed": false
   },
   "outputs": [],
   "source": [
    "# create tweets_medications_search table if it does not exist\n",
    "#------------------------------------------------------------\n",
    "\n",
    "cur.execute(\"\"\"CREATE TABLE IF NOT EXISTS medications_tweets_fda \n",
    "(pk           bigserial PRIMARY KEY , \n",
    " medication_name text NOT NULL,\n",
    " type text NOT NULL,\n",
    " fda_drug_name text NOT NULL);\"\"\");\n",
    "\n",
    "cur.execute(\"DELETE FROM medications_tweets_fda;\")\n",
    "\n",
    "cur.execute(\"\"\"INSERT INTO  medications_tweets_fda (type, medication_name, \n",
    "fda_drug_name)\n",
    "select 'brand_name' ,  medication_name, drug_name fda_medication_product\n",
    "from fda_brands lb, tweets_medications_search tm \n",
    "where lower(lb.brand_name) = tm.medication_name \n",
    "group by medication_name , drug_name\n",
    "UNION \n",
    "select 'generic_name' , medication_name, drug_name fda_medication_product\n",
    "from fda_generics lg, tweets_medications_search tm \n",
    "where lower(lg.generic_name) = tm.medication_name \n",
    "group by medication_name, drug_name ;\"\"\");\n",
    "\n",
    "cur.execute(\"\"\"CREATE  INDEX IF NOT EXISTS medication_tweet_fda_search_idx \n",
    "ON medications_tweets_fda(medication_name);\"\"\")\n",
    "conn.commit()\n",
    "\n"
   ]
  },
  {
   "cell_type": "code",
   "execution_count": 12,
   "metadata": {
    "collapsed": true
   },
   "outputs": [],
   "source": [
    "\n",
    "cur.close()\n",
    "conn.close()"
   ]
  },
  {
   "cell_type": "code",
   "execution_count": null,
   "metadata": {
    "collapsed": true
   },
   "outputs": [],
   "source": []
  }
 ],
 "metadata": {
  "anaconda-cloud": {},
  "kernelspec": {
   "display_name": "Python [Root]",
   "language": "python",
   "name": "Python [Root]"
  },
  "language_info": {
   "codemirror_mode": {
    "name": "ipython",
    "version": 2
   },
   "file_extension": ".py",
   "mimetype": "text/x-python",
   "name": "python",
   "nbconvert_exporter": "python",
   "pygments_lexer": "ipython2",
   "version": "2.7.12"
  }
 },
 "nbformat": 4,
 "nbformat_minor": 0
}
